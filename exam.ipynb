{
 "cells": [
  {
   "cell_type": "code",
   "execution_count": 461,
   "id": "3277894e",
   "metadata": {},
   "outputs": [],
   "source": [
    "import matplotlib.pyplot as plt\n",
    "import pandas as pd\n",
    "import numpy as np\n",
    "import seaborn as sns \n",
    "from sklearn.linear_model import LinearRegression\n",
    "from sklearn import preprocessing\n",
    "from sklearn.preprocessing import MinMaxScaler\n",
    "from sklearn import preprocessing\n",
    "df=pd.read_csv(r'C:\\Users\\USER\\Downloads\\3ad4391cabf711ec\\dataset\\test.csv')\n",
    "tf=pd.read_csv(r'C:\\Users\\USER\\Downloads\\3ad4391cabf711ec\\dataset\\train.csv')\n",
    "sf=pd.read_csv(r'C:\\Users\\USER\\Downloads\\3ad4391cabf711ec\\dataset\\sample_submission.csv')\n",
    "#test file to df,train file to tf and sample file in sf"
   ]
  },
  {
   "cell_type": "code",
   "execution_count": 462,
   "id": "62e0f348",
   "metadata": {},
   "outputs": [],
   "source": [
    "#data preparation"
   ]
  },
  {
   "cell_type": "code",
   "execution_count": 463,
   "id": "3bd164e1",
   "metadata": {
    "scrolled": true
   },
   "outputs": [
    {
     "data": {
      "text/html": [
       "<div>\n",
       "<style scoped>\n",
       "    .dataframe tbody tr th:only-of-type {\n",
       "        vertical-align: middle;\n",
       "    }\n",
       "\n",
       "    .dataframe tbody tr th {\n",
       "        vertical-align: top;\n",
       "    }\n",
       "\n",
       "    .dataframe thead th {\n",
       "        text-align: right;\n",
       "    }\n",
       "</style>\n",
       "<table border=\"1\" class=\"dataframe\">\n",
       "  <thead>\n",
       "    <tr style=\"text-align: right;\">\n",
       "      <th></th>\n",
       "      <th>customer_id</th>\n",
       "      <th>name</th>\n",
       "      <th>age</th>\n",
       "      <th>gender</th>\n",
       "      <th>owns_car</th>\n",
       "      <th>owns_house</th>\n",
       "      <th>no_of_children</th>\n",
       "      <th>net_yearly_income</th>\n",
       "      <th>no_of_days_employed</th>\n",
       "      <th>occupation_type</th>\n",
       "      <th>total_family_members</th>\n",
       "      <th>migrant_worker</th>\n",
       "      <th>yearly_debt_payments</th>\n",
       "      <th>credit_limit</th>\n",
       "      <th>credit_limit_used(%)</th>\n",
       "      <th>credit_score</th>\n",
       "      <th>prev_defaults</th>\n",
       "      <th>default_in_last_6months</th>\n",
       "    </tr>\n",
       "  </thead>\n",
       "  <tbody>\n",
       "    <tr>\n",
       "      <th>0</th>\n",
       "      <td>CST_142525</td>\n",
       "      <td>Siva</td>\n",
       "      <td>52</td>\n",
       "      <td>F</td>\n",
       "      <td>Y</td>\n",
       "      <td>N</td>\n",
       "      <td>0.0</td>\n",
       "      <td>232640.53</td>\n",
       "      <td>998.0</td>\n",
       "      <td>Unknown</td>\n",
       "      <td>2.0</td>\n",
       "      <td>0.0</td>\n",
       "      <td>14406.73</td>\n",
       "      <td>26524.40</td>\n",
       "      <td>4</td>\n",
       "      <td>779.0</td>\n",
       "      <td>0</td>\n",
       "      <td>0</td>\n",
       "    </tr>\n",
       "    <tr>\n",
       "      <th>1</th>\n",
       "      <td>CST_129215</td>\n",
       "      <td>Scott</td>\n",
       "      <td>48</td>\n",
       "      <td>F</td>\n",
       "      <td>N</td>\n",
       "      <td>N</td>\n",
       "      <td>1.0</td>\n",
       "      <td>284396.79</td>\n",
       "      <td>1338.0</td>\n",
       "      <td>Unknown</td>\n",
       "      <td>3.0</td>\n",
       "      <td>0.0</td>\n",
       "      <td>57479.99</td>\n",
       "      <td>68998.72</td>\n",
       "      <td>70</td>\n",
       "      <td>806.0</td>\n",
       "      <td>0</td>\n",
       "      <td>0</td>\n",
       "    </tr>\n",
       "    <tr>\n",
       "      <th>2</th>\n",
       "      <td>CST_138443</td>\n",
       "      <td>Victoria</td>\n",
       "      <td>50</td>\n",
       "      <td>F</td>\n",
       "      <td>N</td>\n",
       "      <td>N</td>\n",
       "      <td>1.0</td>\n",
       "      <td>149419.28</td>\n",
       "      <td>1210.0</td>\n",
       "      <td>Unknown</td>\n",
       "      <td>3.0</td>\n",
       "      <td>0.0</td>\n",
       "      <td>21611.01</td>\n",
       "      <td>25187.80</td>\n",
       "      <td>71</td>\n",
       "      <td>528.0</td>\n",
       "      <td>2</td>\n",
       "      <td>0</td>\n",
       "    </tr>\n",
       "    <tr>\n",
       "      <th>3</th>\n",
       "      <td>CST_123812</td>\n",
       "      <td>John McCrank</td>\n",
       "      <td>30</td>\n",
       "      <td>F</td>\n",
       "      <td>N</td>\n",
       "      <td>N</td>\n",
       "      <td>1.0</td>\n",
       "      <td>160437.54</td>\n",
       "      <td>503.0</td>\n",
       "      <td>Laborers</td>\n",
       "      <td>2.0</td>\n",
       "      <td>1.0</td>\n",
       "      <td>28990.76</td>\n",
       "      <td>29179.39</td>\n",
       "      <td>9</td>\n",
       "      <td>815.0</td>\n",
       "      <td>0</td>\n",
       "      <td>0</td>\n",
       "    </tr>\n",
       "    <tr>\n",
       "      <th>4</th>\n",
       "      <td>CST_144450</td>\n",
       "      <td>Martinne</td>\n",
       "      <td>52</td>\n",
       "      <td>M</td>\n",
       "      <td>N</td>\n",
       "      <td>Y</td>\n",
       "      <td>0.0</td>\n",
       "      <td>233480.37</td>\n",
       "      <td>157.0</td>\n",
       "      <td>Laborers</td>\n",
       "      <td>2.0</td>\n",
       "      <td>1.0</td>\n",
       "      <td>54213.72</td>\n",
       "      <td>82331.82</td>\n",
       "      <td>82</td>\n",
       "      <td>613.0</td>\n",
       "      <td>1</td>\n",
       "      <td>1</td>\n",
       "    </tr>\n",
       "  </tbody>\n",
       "</table>\n",
       "</div>"
      ],
      "text/plain": [
       "  customer_id          name  age gender owns_car owns_house  no_of_children  \\\n",
       "0  CST_142525          Siva   52      F        Y          N             0.0   \n",
       "1  CST_129215         Scott   48      F        N          N             1.0   \n",
       "2  CST_138443      Victoria   50      F        N          N             1.0   \n",
       "3  CST_123812  John McCrank   30      F        N          N             1.0   \n",
       "4  CST_144450      Martinne   52      M        N          Y             0.0   \n",
       "\n",
       "   net_yearly_income  no_of_days_employed occupation_type  \\\n",
       "0          232640.53                998.0         Unknown   \n",
       "1          284396.79               1338.0         Unknown   \n",
       "2          149419.28               1210.0         Unknown   \n",
       "3          160437.54                503.0        Laborers   \n",
       "4          233480.37                157.0        Laborers   \n",
       "\n",
       "   total_family_members  migrant_worker  yearly_debt_payments  credit_limit  \\\n",
       "0                   2.0             0.0              14406.73      26524.40   \n",
       "1                   3.0             0.0              57479.99      68998.72   \n",
       "2                   3.0             0.0              21611.01      25187.80   \n",
       "3                   2.0             1.0              28990.76      29179.39   \n",
       "4                   2.0             1.0              54213.72      82331.82   \n",
       "\n",
       "   credit_limit_used(%)  credit_score  prev_defaults  default_in_last_6months  \n",
       "0                     4         779.0              0                        0  \n",
       "1                    70         806.0              0                        0  \n",
       "2                    71         528.0              2                        0  \n",
       "3                     9         815.0              0                        0  \n",
       "4                    82         613.0              1                        1  "
      ]
     },
     "execution_count": 463,
     "metadata": {},
     "output_type": "execute_result"
    }
   ],
   "source": [
    "df.head()\n"
   ]
  },
  {
   "cell_type": "code",
   "execution_count": 464,
   "id": "aabcf44d",
   "metadata": {},
   "outputs": [
    {
     "data": {
      "text/html": [
       "<div>\n",
       "<style scoped>\n",
       "    .dataframe tbody tr th:only-of-type {\n",
       "        vertical-align: middle;\n",
       "    }\n",
       "\n",
       "    .dataframe tbody tr th {\n",
       "        vertical-align: top;\n",
       "    }\n",
       "\n",
       "    .dataframe thead th {\n",
       "        text-align: right;\n",
       "    }\n",
       "</style>\n",
       "<table border=\"1\" class=\"dataframe\">\n",
       "  <thead>\n",
       "    <tr style=\"text-align: right;\">\n",
       "      <th></th>\n",
       "      <th>customer_id</th>\n",
       "      <th>name</th>\n",
       "      <th>age</th>\n",
       "      <th>gender</th>\n",
       "      <th>owns_car</th>\n",
       "      <th>owns_house</th>\n",
       "      <th>no_of_children</th>\n",
       "      <th>net_yearly_income</th>\n",
       "      <th>no_of_days_employed</th>\n",
       "      <th>occupation_type</th>\n",
       "      <th>total_family_members</th>\n",
       "      <th>migrant_worker</th>\n",
       "      <th>yearly_debt_payments</th>\n",
       "      <th>credit_limit</th>\n",
       "      <th>credit_limit_used(%)</th>\n",
       "      <th>credit_score</th>\n",
       "      <th>prev_defaults</th>\n",
       "      <th>default_in_last_6months</th>\n",
       "      <th>credit_card_default</th>\n",
       "    </tr>\n",
       "  </thead>\n",
       "  <tbody>\n",
       "    <tr>\n",
       "      <th>0</th>\n",
       "      <td>CST_115179</td>\n",
       "      <td>ita Bose</td>\n",
       "      <td>46</td>\n",
       "      <td>F</td>\n",
       "      <td>N</td>\n",
       "      <td>Y</td>\n",
       "      <td>0.0</td>\n",
       "      <td>107934.04</td>\n",
       "      <td>612.0</td>\n",
       "      <td>Unknown</td>\n",
       "      <td>1.0</td>\n",
       "      <td>1.0</td>\n",
       "      <td>33070.28</td>\n",
       "      <td>18690.93</td>\n",
       "      <td>73</td>\n",
       "      <td>544.0</td>\n",
       "      <td>2</td>\n",
       "      <td>1</td>\n",
       "      <td>1</td>\n",
       "    </tr>\n",
       "    <tr>\n",
       "      <th>1</th>\n",
       "      <td>CST_121920</td>\n",
       "      <td>Alper Jonathan</td>\n",
       "      <td>29</td>\n",
       "      <td>M</td>\n",
       "      <td>N</td>\n",
       "      <td>Y</td>\n",
       "      <td>0.0</td>\n",
       "      <td>109862.62</td>\n",
       "      <td>2771.0</td>\n",
       "      <td>Laborers</td>\n",
       "      <td>2.0</td>\n",
       "      <td>0.0</td>\n",
       "      <td>15329.53</td>\n",
       "      <td>37745.19</td>\n",
       "      <td>52</td>\n",
       "      <td>857.0</td>\n",
       "      <td>0</td>\n",
       "      <td>0</td>\n",
       "      <td>0</td>\n",
       "    </tr>\n",
       "    <tr>\n",
       "      <th>2</th>\n",
       "      <td>CST_109330</td>\n",
       "      <td>Umesh Desai</td>\n",
       "      <td>37</td>\n",
       "      <td>M</td>\n",
       "      <td>N</td>\n",
       "      <td>Y</td>\n",
       "      <td>0.0</td>\n",
       "      <td>230153.17</td>\n",
       "      <td>204.0</td>\n",
       "      <td>Laborers</td>\n",
       "      <td>2.0</td>\n",
       "      <td>0.0</td>\n",
       "      <td>48416.60</td>\n",
       "      <td>41598.36</td>\n",
       "      <td>43</td>\n",
       "      <td>650.0</td>\n",
       "      <td>0</td>\n",
       "      <td>0</td>\n",
       "      <td>0</td>\n",
       "    </tr>\n",
       "    <tr>\n",
       "      <th>3</th>\n",
       "      <td>CST_128288</td>\n",
       "      <td>Rie</td>\n",
       "      <td>39</td>\n",
       "      <td>F</td>\n",
       "      <td>N</td>\n",
       "      <td>Y</td>\n",
       "      <td>0.0</td>\n",
       "      <td>122325.82</td>\n",
       "      <td>11941.0</td>\n",
       "      <td>Core staff</td>\n",
       "      <td>2.0</td>\n",
       "      <td>0.0</td>\n",
       "      <td>22574.36</td>\n",
       "      <td>32627.76</td>\n",
       "      <td>20</td>\n",
       "      <td>754.0</td>\n",
       "      <td>0</td>\n",
       "      <td>0</td>\n",
       "      <td>0</td>\n",
       "    </tr>\n",
       "    <tr>\n",
       "      <th>4</th>\n",
       "      <td>CST_151355</td>\n",
       "      <td>McCool</td>\n",
       "      <td>46</td>\n",
       "      <td>M</td>\n",
       "      <td>Y</td>\n",
       "      <td>Y</td>\n",
       "      <td>0.0</td>\n",
       "      <td>387286.00</td>\n",
       "      <td>1459.0</td>\n",
       "      <td>Core staff</td>\n",
       "      <td>1.0</td>\n",
       "      <td>0.0</td>\n",
       "      <td>38282.95</td>\n",
       "      <td>52950.64</td>\n",
       "      <td>75</td>\n",
       "      <td>927.0</td>\n",
       "      <td>0</td>\n",
       "      <td>0</td>\n",
       "      <td>0</td>\n",
       "    </tr>\n",
       "  </tbody>\n",
       "</table>\n",
       "</div>"
      ],
      "text/plain": [
       "  customer_id            name  age gender owns_car owns_house  no_of_children  \\\n",
       "0  CST_115179        ita Bose   46      F        N          Y             0.0   \n",
       "1  CST_121920  Alper Jonathan   29      M        N          Y             0.0   \n",
       "2  CST_109330     Umesh Desai   37      M        N          Y             0.0   \n",
       "3  CST_128288             Rie   39      F        N          Y             0.0   \n",
       "4  CST_151355          McCool   46      M        Y          Y             0.0   \n",
       "\n",
       "   net_yearly_income  no_of_days_employed occupation_type  \\\n",
       "0          107934.04                612.0         Unknown   \n",
       "1          109862.62               2771.0        Laborers   \n",
       "2          230153.17                204.0        Laborers   \n",
       "3          122325.82              11941.0      Core staff   \n",
       "4          387286.00               1459.0      Core staff   \n",
       "\n",
       "   total_family_members  migrant_worker  yearly_debt_payments  credit_limit  \\\n",
       "0                   1.0             1.0              33070.28      18690.93   \n",
       "1                   2.0             0.0              15329.53      37745.19   \n",
       "2                   2.0             0.0              48416.60      41598.36   \n",
       "3                   2.0             0.0              22574.36      32627.76   \n",
       "4                   1.0             0.0              38282.95      52950.64   \n",
       "\n",
       "   credit_limit_used(%)  credit_score  prev_defaults  default_in_last_6months  \\\n",
       "0                    73         544.0              2                        1   \n",
       "1                    52         857.0              0                        0   \n",
       "2                    43         650.0              0                        0   \n",
       "3                    20         754.0              0                        0   \n",
       "4                    75         927.0              0                        0   \n",
       "\n",
       "   credit_card_default  \n",
       "0                    1  \n",
       "1                    0  \n",
       "2                    0  \n",
       "3                    0  \n",
       "4                    0  "
      ]
     },
     "execution_count": 464,
     "metadata": {},
     "output_type": "execute_result"
    }
   ],
   "source": [
    "tf.head()"
   ]
  },
  {
   "cell_type": "code",
   "execution_count": 465,
   "id": "82f22613",
   "metadata": {},
   "outputs": [
    {
     "data": {
      "text/html": [
       "<div>\n",
       "<style scoped>\n",
       "    .dataframe tbody tr th:only-of-type {\n",
       "        vertical-align: middle;\n",
       "    }\n",
       "\n",
       "    .dataframe tbody tr th {\n",
       "        vertical-align: top;\n",
       "    }\n",
       "\n",
       "    .dataframe thead th {\n",
       "        text-align: right;\n",
       "    }\n",
       "</style>\n",
       "<table border=\"1\" class=\"dataframe\">\n",
       "  <thead>\n",
       "    <tr style=\"text-align: right;\">\n",
       "      <th></th>\n",
       "      <th>customer_id</th>\n",
       "      <th>credit_card_default</th>\n",
       "    </tr>\n",
       "  </thead>\n",
       "  <tbody>\n",
       "    <tr>\n",
       "      <th>0</th>\n",
       "      <td>CST_115179</td>\n",
       "      <td>1</td>\n",
       "    </tr>\n",
       "    <tr>\n",
       "      <th>1</th>\n",
       "      <td>CST_121920</td>\n",
       "      <td>0</td>\n",
       "    </tr>\n",
       "    <tr>\n",
       "      <th>2</th>\n",
       "      <td>CST_109330</td>\n",
       "      <td>0</td>\n",
       "    </tr>\n",
       "    <tr>\n",
       "      <th>3</th>\n",
       "      <td>CST_128288</td>\n",
       "      <td>0</td>\n",
       "    </tr>\n",
       "    <tr>\n",
       "      <th>4</th>\n",
       "      <td>CST_151355</td>\n",
       "      <td>0</td>\n",
       "    </tr>\n",
       "  </tbody>\n",
       "</table>\n",
       "</div>"
      ],
      "text/plain": [
       "  customer_id  credit_card_default\n",
       "0  CST_115179                    1\n",
       "1  CST_121920                    0\n",
       "2  CST_109330                    0\n",
       "3  CST_128288                    0\n",
       "4  CST_151355                    0"
      ]
     },
     "execution_count": 465,
     "metadata": {},
     "output_type": "execute_result"
    }
   ],
   "source": [
    "sf.head()"
   ]
  },
  {
   "cell_type": "code",
   "execution_count": 466,
   "id": "a01dbd0f",
   "metadata": {},
   "outputs": [
    {
     "data": {
      "text/plain": [
       "(11383, 18)"
      ]
     },
     "execution_count": 466,
     "metadata": {},
     "output_type": "execute_result"
    }
   ],
   "source": [
    "df.shape"
   ]
  },
  {
   "cell_type": "code",
   "execution_count": 467,
   "id": "46fc6be9",
   "metadata": {},
   "outputs": [
    {
     "data": {
      "text/html": [
       "<div>\n",
       "<style scoped>\n",
       "    .dataframe tbody tr th:only-of-type {\n",
       "        vertical-align: middle;\n",
       "    }\n",
       "\n",
       "    .dataframe tbody tr th {\n",
       "        vertical-align: top;\n",
       "    }\n",
       "\n",
       "    .dataframe thead th {\n",
       "        text-align: right;\n",
       "    }\n",
       "</style>\n",
       "<table border=\"1\" class=\"dataframe\">\n",
       "  <thead>\n",
       "    <tr style=\"text-align: right;\">\n",
       "      <th></th>\n",
       "      <th>age</th>\n",
       "      <th>no_of_children</th>\n",
       "      <th>net_yearly_income</th>\n",
       "      <th>no_of_days_employed</th>\n",
       "      <th>total_family_members</th>\n",
       "      <th>migrant_worker</th>\n",
       "      <th>yearly_debt_payments</th>\n",
       "      <th>credit_limit</th>\n",
       "      <th>credit_limit_used(%)</th>\n",
       "      <th>credit_score</th>\n",
       "      <th>prev_defaults</th>\n",
       "      <th>default_in_last_6months</th>\n",
       "    </tr>\n",
       "  </thead>\n",
       "  <tbody>\n",
       "    <tr>\n",
       "      <th>count</th>\n",
       "      <td>11383.000000</td>\n",
       "      <td>11193.000000</td>\n",
       "      <td>1.138300e+04</td>\n",
       "      <td>11278.000000</td>\n",
       "      <td>11352.000000</td>\n",
       "      <td>11357.000000</td>\n",
       "      <td>11361.000000</td>\n",
       "      <td>11383.000000</td>\n",
       "      <td>11383.000000</td>\n",
       "      <td>11380.000000</td>\n",
       "      <td>11383.000000</td>\n",
       "      <td>11383.000000</td>\n",
       "    </tr>\n",
       "    <tr>\n",
       "      <th>mean</th>\n",
       "      <td>39.073004</td>\n",
       "      <td>0.419012</td>\n",
       "      <td>1.987084e+05</td>\n",
       "      <td>65519.798280</td>\n",
       "      <td>2.157593</td>\n",
       "      <td>0.178040</td>\n",
       "      <td>32078.968043</td>\n",
       "      <td>42972.207247</td>\n",
       "      <td>51.780989</td>\n",
       "      <td>784.389455</td>\n",
       "      <td>0.058069</td>\n",
       "      <td>0.048669</td>\n",
       "    </tr>\n",
       "    <tr>\n",
       "      <th>std</th>\n",
       "      <td>9.572474</td>\n",
       "      <td>0.727709</td>\n",
       "      <td>1.151905e+05</td>\n",
       "      <td>137572.106971</td>\n",
       "      <td>0.917391</td>\n",
       "      <td>0.382563</td>\n",
       "      <td>17417.412533</td>\n",
       "      <td>29325.712903</td>\n",
       "      <td>29.386130</td>\n",
       "      <td>100.468636</td>\n",
       "      <td>0.260202</td>\n",
       "      <td>0.215185</td>\n",
       "    </tr>\n",
       "    <tr>\n",
       "      <th>min</th>\n",
       "      <td>23.000000</td>\n",
       "      <td>0.000000</td>\n",
       "      <td>3.030994e+04</td>\n",
       "      <td>-3.000000</td>\n",
       "      <td>1.000000</td>\n",
       "      <td>0.000000</td>\n",
       "      <td>2371.740000</td>\n",
       "      <td>3604.650000</td>\n",
       "      <td>0.000000</td>\n",
       "      <td>500.000000</td>\n",
       "      <td>0.000000</td>\n",
       "      <td>0.000000</td>\n",
       "    </tr>\n",
       "    <tr>\n",
       "      <th>25%</th>\n",
       "      <td>31.000000</td>\n",
       "      <td>0.000000</td>\n",
       "      <td>1.274479e+05</td>\n",
       "      <td>934.250000</td>\n",
       "      <td>2.000000</td>\n",
       "      <td>0.000000</td>\n",
       "      <td>19522.320000</td>\n",
       "      <td>24148.525000</td>\n",
       "      <td>26.000000</td>\n",
       "      <td>705.000000</td>\n",
       "      <td>0.000000</td>\n",
       "      <td>0.000000</td>\n",
       "    </tr>\n",
       "    <tr>\n",
       "      <th>50%</th>\n",
       "      <td>39.000000</td>\n",
       "      <td>0.000000</td>\n",
       "      <td>1.728695e+05</td>\n",
       "      <td>2216.000000</td>\n",
       "      <td>2.000000</td>\n",
       "      <td>0.000000</td>\n",
       "      <td>29246.110000</td>\n",
       "      <td>35793.490000</td>\n",
       "      <td>53.000000</td>\n",
       "      <td>787.000000</td>\n",
       "      <td>0.000000</td>\n",
       "      <td>0.000000</td>\n",
       "    </tr>\n",
       "    <tr>\n",
       "      <th>75%</th>\n",
       "      <td>47.000000</td>\n",
       "      <td>1.000000</td>\n",
       "      <td>2.402339e+05</td>\n",
       "      <td>5517.000000</td>\n",
       "      <td>3.000000</td>\n",
       "      <td>0.000000</td>\n",
       "      <td>40729.260000</td>\n",
       "      <td>53527.890000</td>\n",
       "      <td>78.000000</td>\n",
       "      <td>870.000000</td>\n",
       "      <td>0.000000</td>\n",
       "      <td>0.000000</td>\n",
       "    </tr>\n",
       "    <tr>\n",
       "      <th>max</th>\n",
       "      <td>55.000000</td>\n",
       "      <td>11.000000</td>\n",
       "      <td>2.472450e+06</td>\n",
       "      <td>365252.000000</td>\n",
       "      <td>13.000000</td>\n",
       "      <td>1.000000</td>\n",
       "      <td>280114.740000</td>\n",
       "      <td>421517.090000</td>\n",
       "      <td>99.000000</td>\n",
       "      <td>949.000000</td>\n",
       "      <td>2.000000</td>\n",
       "      <td>1.000000</td>\n",
       "    </tr>\n",
       "  </tbody>\n",
       "</table>\n",
       "</div>"
      ],
      "text/plain": [
       "                age  no_of_children  net_yearly_income  no_of_days_employed  \\\n",
       "count  11383.000000    11193.000000       1.138300e+04         11278.000000   \n",
       "mean      39.073004        0.419012       1.987084e+05         65519.798280   \n",
       "std        9.572474        0.727709       1.151905e+05        137572.106971   \n",
       "min       23.000000        0.000000       3.030994e+04            -3.000000   \n",
       "25%       31.000000        0.000000       1.274479e+05           934.250000   \n",
       "50%       39.000000        0.000000       1.728695e+05          2216.000000   \n",
       "75%       47.000000        1.000000       2.402339e+05          5517.000000   \n",
       "max       55.000000       11.000000       2.472450e+06        365252.000000   \n",
       "\n",
       "       total_family_members  migrant_worker  yearly_debt_payments  \\\n",
       "count          11352.000000    11357.000000          11361.000000   \n",
       "mean               2.157593        0.178040          32078.968043   \n",
       "std                0.917391        0.382563          17417.412533   \n",
       "min                1.000000        0.000000           2371.740000   \n",
       "25%                2.000000        0.000000          19522.320000   \n",
       "50%                2.000000        0.000000          29246.110000   \n",
       "75%                3.000000        0.000000          40729.260000   \n",
       "max               13.000000        1.000000         280114.740000   \n",
       "\n",
       "        credit_limit  credit_limit_used(%)  credit_score  prev_defaults  \\\n",
       "count   11383.000000          11383.000000  11380.000000   11383.000000   \n",
       "mean    42972.207247             51.780989    784.389455       0.058069   \n",
       "std     29325.712903             29.386130    100.468636       0.260202   \n",
       "min      3604.650000              0.000000    500.000000       0.000000   \n",
       "25%     24148.525000             26.000000    705.000000       0.000000   \n",
       "50%     35793.490000             53.000000    787.000000       0.000000   \n",
       "75%     53527.890000             78.000000    870.000000       0.000000   \n",
       "max    421517.090000             99.000000    949.000000       2.000000   \n",
       "\n",
       "       default_in_last_6months  \n",
       "count             11383.000000  \n",
       "mean                  0.048669  \n",
       "std                   0.215185  \n",
       "min                   0.000000  \n",
       "25%                   0.000000  \n",
       "50%                   0.000000  \n",
       "75%                   0.000000  \n",
       "max                   1.000000  "
      ]
     },
     "execution_count": 467,
     "metadata": {},
     "output_type": "execute_result"
    }
   ],
   "source": [
    "df.describe()"
   ]
  },
  {
   "cell_type": "code",
   "execution_count": 468,
   "id": "daf6b5ea",
   "metadata": {
    "scrolled": true
   },
   "outputs": [
    {
     "data": {
      "text/plain": [
       "customer_id                11383\n",
       "name                        2459\n",
       "age                           33\n",
       "gender                         3\n",
       "owns_car                       2\n",
       "owns_house                     2\n",
       "no_of_children                 8\n",
       "net_yearly_income          11380\n",
       "no_of_days_employed         4558\n",
       "occupation_type               19\n",
       "total_family_members           9\n",
       "migrant_worker                 2\n",
       "yearly_debt_payments       11346\n",
       "credit_limit               11372\n",
       "credit_limit_used(%)         100\n",
       "credit_score                 449\n",
       "prev_defaults                  3\n",
       "default_in_last_6months        2\n",
       "dtype: int64"
      ]
     },
     "execution_count": 468,
     "metadata": {},
     "output_type": "execute_result"
    }
   ],
   "source": [
    "df.nunique()"
   ]
  },
  {
   "cell_type": "code",
   "execution_count": 469,
   "id": "307ea8f9",
   "metadata": {
    "scrolled": true
   },
   "outputs": [
    {
     "data": {
      "text/plain": [
       "customer_id                 object\n",
       "name                        object\n",
       "age                          int64\n",
       "gender                      object\n",
       "owns_car                    object\n",
       "owns_house                  object\n",
       "no_of_children             float64\n",
       "net_yearly_income          float64\n",
       "no_of_days_employed        float64\n",
       "occupation_type             object\n",
       "total_family_members       float64\n",
       "migrant_worker             float64\n",
       "yearly_debt_payments       float64\n",
       "credit_limit               float64\n",
       "credit_limit_used(%)         int64\n",
       "credit_score               float64\n",
       "prev_defaults                int64\n",
       "default_in_last_6months      int64\n",
       "dtype: object"
      ]
     },
     "execution_count": 469,
     "metadata": {},
     "output_type": "execute_result"
    }
   ],
   "source": [
    "df.dtypes"
   ]
  },
  {
   "cell_type": "code",
   "execution_count": 470,
   "id": "25a5def2",
   "metadata": {},
   "outputs": [],
   "source": [
    "#data exploration"
   ]
  },
  {
   "cell_type": "code",
   "execution_count": 471,
   "id": "f80ff992",
   "metadata": {
    "scrolled": false
   },
   "outputs": [
    {
     "data": {
      "image/png": "[encoded data removed]",
      "text/plain": [
       "<Figure size 432x288 with 1 Axes>"
      ]
     },
     "metadata": {
      "needs_background": "light"
     },
     "output_type": "display_data"
    }
   ],
   "source": [
    "boxplot = df.boxplot(column=['net_yearly_income']) "
   ]
  },
  {
   "cell_type": "code",
   "execution_count": 472,
   "id": "3ff48a9f",
   "metadata": {
    "scrolled": true
   },
   "outputs": [
    {
     "data": {
      "image/png": "[encoded data removed]",
      "text/plain": [
       "<Figure size 432x288 with 1 Axes>"
      ]
     },
     "metadata": {
      "needs_background": "light"
     },
     "output_type": "display_data"
    }
   ],
   "source": [
    "boxplot = df.boxplot(column=['no_of_days_employed']) "
   ]
  },
  {
   "cell_type": "markdown",
   "id": "f854afe9",
   "metadata": {},
   "source": [
    "has outliers"
   ]
  },
  {
   "cell_type": "code",
   "execution_count": 473,
   "id": "d8002f00",
   "metadata": {},
   "outputs": [
    {
     "data": {
      "image/png": "[encoded data removed]",
      "text/plain": [
       "<Figure size 432x288 with 1 Axes>"
      ]
     },
     "metadata": {
      "needs_background": "light"
     },
     "output_type": "display_data"
    }
   ],
   "source": [
    "boxplot = df.boxplot(column=['credit_limit']) "
   ]
  },
  {
   "cell_type": "code",
   "execution_count": 474,
   "id": "ccbbfaba",
   "metadata": {},
   "outputs": [
    {
     "data": {
      "image/png": "[encoded data removed]",
      "text/plain": [
       "<Figure size 432x288 with 1 Axes>"
      ]
     },
     "metadata": {
      "needs_background": "light"
     },
     "output_type": "display_data"
    }
   ],
   "source": [
    "boxplot = df.boxplot(column=['credit_limit_used(%)']) "
   ]
  },
  {
   "cell_type": "code",
   "execution_count": 475,
   "id": "9a0832c8",
   "metadata": {
    "scrolled": true
   },
   "outputs": [
    {
     "data": {
      "image/png": "[encoded data removed]",
      "text/plain": [
       "<Figure size 432x288 with 1 Axes>"
      ]
     },
     "metadata": {
      "needs_background": "light"
     },
     "output_type": "display_data"
    }
   ],
   "source": [
    "boxplot = df.boxplot(column=['default_in_last_6months']) "
   ]
  },
  {
   "cell_type": "code",
   "execution_count": 476,
   "id": "e52b8497",
   "metadata": {},
   "outputs": [],
   "source": [
    "#cheching for null value"
   ]
  },
  {
   "cell_type": "code",
   "execution_count": 477,
   "id": "ffb20fe9",
   "metadata": {
    "scrolled": true
   },
   "outputs": [
    {
     "data": {
      "text/plain": [
       "customer_id                  0\n",
       "name                         0\n",
       "age                          0\n",
       "gender                       0\n",
       "owns_car                   132\n",
       "owns_house                   0\n",
       "no_of_children             190\n",
       "net_yearly_income            0\n",
       "no_of_days_employed        105\n",
       "occupation_type              0\n",
       "total_family_members        31\n",
       "migrant_worker              26\n",
       "yearly_debt_payments        22\n",
       "credit_limit                 0\n",
       "credit_limit_used(%)         0\n",
       "credit_score                 3\n",
       "prev_defaults                0\n",
       "default_in_last_6months      0\n",
       "dtype: int64"
      ]
     },
     "execution_count": 477,
     "metadata": {},
     "output_type": "execute_result"
    }
   ],
   "source": [
    "df.isna().sum()  "
   ]
  },
  {
   "cell_type": "code",
   "execution_count": 478,
   "id": "b7fb0d49",
   "metadata": {
    "scrolled": true
   },
   "outputs": [
    {
     "name": "stderr",
     "output_type": "stream",
     "text": [
      "C:\\Users\\USER\\anaconda3\\lib\\site-packages\\seaborn\\distributions.py:2557: FutureWarning: `distplot` is a deprecated function and will be removed in a future version. Please adapt your code to use either `displot` (a figure-level function with similar flexibility) or `histplot` (an axes-level function for histograms).\n",
      "  warnings.warn(msg, FutureWarning)\n"
     ]
    },
    {
     "data": {
      "text/plain": [
       "<AxesSubplot:xlabel='no_of_children', ylabel='Density'>"
      ]
     },
     "execution_count": 478,
     "metadata": {},
     "output_type": "execute_result"
    },
    {
     "data": {
      "image/png": "[encoded data removed]",
      "text/plain": [
       "<Figure size 432x288 with 1 Axes>"
      ]
     },
     "metadata": {
      "needs_background": "light"
     },
     "output_type": "display_data"
    }
   ],
   "source": [
    "sns.distplot(df.no_of_children)"
   ]
  },
  {
   "cell_type": "code",
   "execution_count": 479,
   "id": "d2bc3779",
   "metadata": {},
   "outputs": [],
   "source": [
    "#no of children is a positive skwed matrix.hence replacing with median\n",
    "df['no_of_children'].fillna(value = df['no_of_children'].median(), inplace = True)"
   ]
  },
  {
   "cell_type": "code",
   "execution_count": 480,
   "id": "8865514b",
   "metadata": {},
   "outputs": [
    {
     "name": "stderr",
     "output_type": "stream",
     "text": [
      "C:\\Users\\USER\\anaconda3\\lib\\site-packages\\seaborn\\distributions.py:2557: FutureWarning: `distplot` is a deprecated function and will be removed in a future version. Please adapt your code to use either `displot` (a figure-level function with similar flexibility) or `histplot` (an axes-level function for histograms).\n",
      "  warnings.warn(msg, FutureWarning)\n"
     ]
    },
    {
     "data": {
      "text/plain": [
       "<AxesSubplot:xlabel='no_of_days_employed', ylabel='Density'>"
      ]
     },
     "execution_count": 480,
     "metadata": {},
     "output_type": "execute_result"
    },
    {
     "data": {
      "image/png": "[encoded data removed]",
      "text/plain": [
       "<Figure size 432x288 with 1 Axes>"
      ]
     },
     "metadata": {
      "needs_background": "light"
     },
     "output_type": "display_data"
    }
   ],
   "source": [
    "sns.distplot(df.no_of_days_employed)"
   ]
  },
  {
   "cell_type": "code",
   "execution_count": 481,
   "id": "67b84a36",
   "metadata": {
    "scrolled": false
   },
   "outputs": [],
   "source": [
    "#no of employed  is a positive skwed matrix.hence replacing with median\n",
    "df['no_of_days_employed'].fillna(value = df['no_of_days_employed'].median(), inplace = True)"
   ]
  },
  {
   "cell_type": "code",
   "execution_count": 482,
   "id": "6ea637e2",
   "metadata": {},
   "outputs": [
    {
     "name": "stderr",
     "output_type": "stream",
     "text": [
      "C:\\Users\\USER\\anaconda3\\lib\\site-packages\\seaborn\\distributions.py:2557: FutureWarning: `distplot` is a deprecated function and will be removed in a future version. Please adapt your code to use either `displot` (a figure-level function with similar flexibility) or `histplot` (an axes-level function for histograms).\n",
      "  warnings.warn(msg, FutureWarning)\n"
     ]
    },
    {
     "data": {
      "text/plain": [
       "<AxesSubplot:xlabel='total_family_members', ylabel='Density'>"
      ]
     },
     "execution_count": 482,
     "metadata": {},
     "output_type": "execute_result"
    },
    {
     "data": {
      "image/png": "[encoded data removed]",
      "text/plain": [
       "<Figure size 432x288 with 1 Axes>"
      ]
     },
     "metadata": {
      "needs_background": "light"
     },
     "output_type": "display_data"
    }
   ],
   "source": [
    "sns.distplot(df.total_family_members)"
   ]
  },
  {
   "cell_type": "code",
   "execution_count": 483,
   "id": "0e0e15c4",
   "metadata": {},
   "outputs": [],
   "source": [
    "#total family  is a positive skwed matrix.hence replacing with median\n",
    "df['total_family_members'].fillna(value = df['total_family_members'].median(), inplace = True)"
   ]
  },
  {
   "cell_type": "code",
   "execution_count": 484,
   "id": "4b6c2afe",
   "metadata": {},
   "outputs": [
    {
     "name": "stderr",
     "output_type": "stream",
     "text": [
      "C:\\Users\\USER\\anaconda3\\lib\\site-packages\\seaborn\\distributions.py:2557: FutureWarning: `distplot` is a deprecated function and will be removed in a future version. Please adapt your code to use either `displot` (a figure-level function with similar flexibility) or `histplot` (an axes-level function for histograms).\n",
      "  warnings.warn(msg, FutureWarning)\n"
     ]
    },
    {
     "data": {
      "text/plain": [
       "<AxesSubplot:xlabel='migrant_worker', ylabel='Density'>"
      ]
     },
     "execution_count": 484,
     "metadata": {},
     "output_type": "execute_result"
    },
    {
     "data": {
      "image/png": "[encoded data removed]",
      "text/plain": [
       "<Figure size 432x288 with 1 Axes>"
      ]
     },
     "metadata": {
      "needs_background": "light"
     },
     "output_type": "display_data"
    }
   ],
   "source": [
    "sns.distplot(df.migrant_worker)"
   ]
  },
  {
   "cell_type": "code",
   "execution_count": 485,
   "id": "0b4b1b68",
   "metadata": {
    "scrolled": true
   },
   "outputs": [],
   "source": [
    "#migrant worker  is a positive skwed matrix.hence replacing with median\n",
    "df['migrant_worker'].fillna(value = df['migrant_worker'].median(), inplace = True)"
   ]
  },
  {
   "cell_type": "code",
   "execution_count": 486,
   "id": "cd5f2c27",
   "metadata": {},
   "outputs": [
    {
     "name": "stderr",
     "output_type": "stream",
     "text": [
      "C:\\Users\\USER\\anaconda3\\lib\\site-packages\\seaborn\\distributions.py:2557: FutureWarning: `distplot` is a deprecated function and will be removed in a future version. Please adapt your code to use either `displot` (a figure-level function with similar flexibility) or `histplot` (an axes-level function for histograms).\n",
      "  warnings.warn(msg, FutureWarning)\n"
     ]
    },
    {
     "data": {
      "text/plain": [
       "<AxesSubplot:xlabel='yearly_debt_payments', ylabel='Density'>"
      ]
     },
     "execution_count": 486,
     "metadata": {},
     "output_type": "execute_result"
    },
    {
     "data": {
      "image/png": "[encoded data removed]",
      "text/plain": [
       "<Figure size 432x288 with 1 Axes>"
      ]
     },
     "metadata": {
      "needs_background": "light"
     },
     "output_type": "display_data"
    }
   ],
   "source": [
    "sns.distplot(df.yearly_debt_payments)"
   ]
  },
  {
   "cell_type": "code",
   "execution_count": 487,
   "id": "217a581f",
   "metadata": {},
   "outputs": [],
   "source": [
    "#yearly_debt_payments  is a positive skwed matrix.hence replacing with median\n",
    "df['yearly_debt_payments'].fillna(value = df['yearly_debt_payments'].median(), inplace = True)\n"
   ]
  },
  {
   "cell_type": "code",
   "execution_count": 488,
   "id": "52c2de22",
   "metadata": {},
   "outputs": [
    {
     "name": "stderr",
     "output_type": "stream",
     "text": [
      "C:\\Users\\USER\\anaconda3\\lib\\site-packages\\seaborn\\distributions.py:2557: FutureWarning: `distplot` is a deprecated function and will be removed in a future version. Please adapt your code to use either `displot` (a figure-level function with similar flexibility) or `histplot` (an axes-level function for histograms).\n",
      "  warnings.warn(msg, FutureWarning)\n"
     ]
    },
    {
     "data": {
      "text/plain": [
       "<AxesSubplot:xlabel='credit_score', ylabel='Density'>"
      ]
     },
     "execution_count": 488,
     "metadata": {},
     "output_type": "execute_result"
    },
    {
     "data": {
      "image/png": "[encoded data removed]",
      "text/plain": [
       "<Figure size 432x288 with 1 Axes>"
      ]
     },
     "metadata": {
      "needs_background": "light"
     },
     "output_type": "display_data"
    }
   ],
   "source": [
    "sns.distplot(df.credit_score)"
   ]
  },
  {
   "cell_type": "code",
   "execution_count": 489,
   "id": "14bdde11",
   "metadata": {},
   "outputs": [],
   "source": [
    "#credit score  is a negative skwed matrix.hence replacing with mean\n",
    "df['credit_score'].fillna(value = df['credit_score'].mean(), inplace = True)"
   ]
  },
  {
   "cell_type": "code",
   "execution_count": 490,
   "id": "3b246dd9",
   "metadata": {},
   "outputs": [
    {
     "data": {
      "text/plain": [
       "customer_id                0\n",
       "name                       0\n",
       "age                        0\n",
       "gender                     0\n",
       "owns_car                   0\n",
       "owns_house                 0\n",
       "no_of_children             0\n",
       "net_yearly_income          0\n",
       "no_of_days_employed        0\n",
       "occupation_type            0\n",
       "total_family_members       0\n",
       "migrant_worker             0\n",
       "yearly_debt_payments       0\n",
       "credit_limit               0\n",
       "credit_limit_used(%)       0\n",
       "credit_score               0\n",
       "prev_defaults              0\n",
       "default_in_last_6months    0\n",
       "dtype: int64"
      ]
     },
     "execution_count": 490,
     "metadata": {},
     "output_type": "execute_result"
    }
   ],
   "source": [
    "#owns car is a categorical value so replacing with mode\n",
    "df['owns_car'] = df['owns_car'].fillna(df['owns_car'].mode()[0])\n",
    "df.isna().sum()"
   ]
  },
  {
   "cell_type": "code",
   "execution_count": 491,
   "id": "b16d7e9e",
   "metadata": {},
   "outputs": [],
   "source": [
    "#found that many features are not of same scale.hence standardising it\n",
    "from sklearn import preprocessing\n",
    "n=df[['credit_limit'] ]\n",
    "m=df[['no_of_days_employed']]\n",
    "o=df[['yearly_debt_payments']]\n",
    "p=df[['net_yearly_income']]\n",
    "q=df[['credit_score']]\n",
    "Standardisation = preprocessing.StandardScaler()\n",
    "# Scaled feature\n",
    "df['credit_limit']= Standardisation.fit_transform(n)\n",
    "df['no_of_days_employed']= Standardisation.fit_transform(m)\n",
    "df['yearly_debt_payments']= Standardisation.fit_transform(o)\n",
    "df['net_yearly_income']= Standardisation.fit_transform(p)\n",
    "df['credit_score']= Standardisation.fit_transform(q)"
   ]
  },
  {
   "cell_type": "code",
   "execution_count": 492,
   "id": "94b6ef29",
   "metadata": {},
   "outputs": [
    {
     "data": {
      "text/html": [
       "<div>\n",
       "<style scoped>\n",
       "    .dataframe tbody tr th:only-of-type {\n",
       "        vertical-align: middle;\n",
       "    }\n",
       "\n",
       "    .dataframe tbody tr th {\n",
       "        vertical-align: top;\n",
       "    }\n",
       "\n",
       "    .dataframe thead th {\n",
       "        text-align: right;\n",
       "    }\n",
       "</style>\n",
       "<table border=\"1\" class=\"dataframe\">\n",
       "  <thead>\n",
       "    <tr style=\"text-align: right;\">\n",
       "      <th></th>\n",
       "      <th>customer_id</th>\n",
       "      <th>name</th>\n",
       "      <th>age</th>\n",
       "      <th>gender</th>\n",
       "      <th>owns_car</th>\n",
       "      <th>owns_house</th>\n",
       "      <th>no_of_children</th>\n",
       "      <th>net_yearly_income</th>\n",
       "      <th>no_of_days_employed</th>\n",
       "      <th>occupation_type</th>\n",
       "      <th>total_family_members</th>\n",
       "      <th>migrant_worker</th>\n",
       "      <th>yearly_debt_payments</th>\n",
       "      <th>credit_limit</th>\n",
       "      <th>credit_limit_used(%)</th>\n",
       "      <th>credit_score</th>\n",
       "      <th>prev_defaults</th>\n",
       "      <th>default_in_last_6months</th>\n",
       "    </tr>\n",
       "  </thead>\n",
       "  <tbody>\n",
       "    <tr>\n",
       "      <th>0</th>\n",
       "      <td>CST_142525</td>\n",
       "      <td>Siva</td>\n",
       "      <td>52</td>\n",
       "      <td>F</td>\n",
       "      <td>Y</td>\n",
       "      <td>N</td>\n",
       "      <td>0.0</td>\n",
       "      <td>0.294587</td>\n",
       "      <td>-0.466483</td>\n",
       "      <td>Unknown</td>\n",
       "      <td>2.0</td>\n",
       "      <td>0.0</td>\n",
       "      <td>-1.015316</td>\n",
       "      <td>-0.560891</td>\n",
       "      <td>4</td>\n",
       "      <td>-0.053653</td>\n",
       "      <td>0</td>\n",
       "      <td>0</td>\n",
       "    </tr>\n",
       "    <tr>\n",
       "      <th>1</th>\n",
       "      <td>CST_129215</td>\n",
       "      <td>Scott</td>\n",
       "      <td>48</td>\n",
       "      <td>F</td>\n",
       "      <td>N</td>\n",
       "      <td>N</td>\n",
       "      <td>1.0</td>\n",
       "      <td>0.743917</td>\n",
       "      <td>-0.464002</td>\n",
       "      <td>Unknown</td>\n",
       "      <td>3.0</td>\n",
       "      <td>0.0</td>\n",
       "      <td>1.460122</td>\n",
       "      <td>0.887537</td>\n",
       "      <td>70</td>\n",
       "      <td>0.215135</td>\n",
       "      <td>0</td>\n",
       "      <td>0</td>\n",
       "    </tr>\n",
       "    <tr>\n",
       "      <th>2</th>\n",
       "      <td>CST_138443</td>\n",
       "      <td>Victoria</td>\n",
       "      <td>50</td>\n",
       "      <td>F</td>\n",
       "      <td>N</td>\n",
       "      <td>N</td>\n",
       "      <td>1.0</td>\n",
       "      <td>-0.427911</td>\n",
       "      <td>-0.464936</td>\n",
       "      <td>Unknown</td>\n",
       "      <td>3.0</td>\n",
       "      <td>0.0</td>\n",
       "      <td>-0.601283</td>\n",
       "      <td>-0.606471</td>\n",
       "      <td>71</td>\n",
       "      <td>-2.552384</td>\n",
       "      <td>2</td>\n",
       "      <td>0</td>\n",
       "    </tr>\n",
       "    <tr>\n",
       "      <th>3</th>\n",
       "      <td>CST_123812</td>\n",
       "      <td>John McCrank</td>\n",
       "      <td>30</td>\n",
       "      <td>F</td>\n",
       "      <td>N</td>\n",
       "      <td>N</td>\n",
       "      <td>1.0</td>\n",
       "      <td>-0.332254</td>\n",
       "      <td>-0.470094</td>\n",
       "      <td>Laborers</td>\n",
       "      <td>2.0</td>\n",
       "      <td>1.0</td>\n",
       "      <td>-0.177166</td>\n",
       "      <td>-0.470353</td>\n",
       "      <td>9</td>\n",
       "      <td>0.304731</td>\n",
       "      <td>0</td>\n",
       "      <td>0</td>\n",
       "    </tr>\n",
       "    <tr>\n",
       "      <th>4</th>\n",
       "      <td>CST_144450</td>\n",
       "      <td>Martinne</td>\n",
       "      <td>52</td>\n",
       "      <td>M</td>\n",
       "      <td>N</td>\n",
       "      <td>Y</td>\n",
       "      <td>0.0</td>\n",
       "      <td>0.301878</td>\n",
       "      <td>-0.472619</td>\n",
       "      <td>Laborers</td>\n",
       "      <td>2.0</td>\n",
       "      <td>1.0</td>\n",
       "      <td>1.272408</td>\n",
       "      <td>1.342213</td>\n",
       "      <td>82</td>\n",
       "      <td>-1.706200</td>\n",
       "      <td>1</td>\n",
       "      <td>1</td>\n",
       "    </tr>\n",
       "  </tbody>\n",
       "</table>\n",
       "</div>"
      ],
      "text/plain": [
       "  customer_id          name  age gender owns_car owns_house  no_of_children  \\\n",
       "0  CST_142525          Siva   52      F        Y          N             0.0   \n",
       "1  CST_129215         Scott   48      F        N          N             1.0   \n",
       "2  CST_138443      Victoria   50      F        N          N             1.0   \n",
       "3  CST_123812  John McCrank   30      F        N          N             1.0   \n",
       "4  CST_144450      Martinne   52      M        N          Y             0.0   \n",
       "\n",
       "   net_yearly_income  no_of_days_employed occupation_type  \\\n",
       "0           0.294587            -0.466483         Unknown   \n",
       "1           0.743917            -0.464002         Unknown   \n",
       "2          -0.427911            -0.464936         Unknown   \n",
       "3          -0.332254            -0.470094        Laborers   \n",
       "4           0.301878            -0.472619        Laborers   \n",
       "\n",
       "   total_family_members  migrant_worker  yearly_debt_payments  credit_limit  \\\n",
       "0                   2.0             0.0             -1.015316     -0.560891   \n",
       "1                   3.0             0.0              1.460122      0.887537   \n",
       "2                   3.0             0.0             -0.601283     -0.606471   \n",
       "3                   2.0             1.0             -0.177166     -0.470353   \n",
       "4                   2.0             1.0              1.272408      1.342213   \n",
       "\n",
       "   credit_limit_used(%)  credit_score  prev_defaults  default_in_last_6months  \n",
       "0                     4     -0.053653              0                        0  \n",
       "1                    70      0.215135              0                        0  \n",
       "2                    71     -2.552384              2                        0  \n",
       "3                     9      0.304731              0                        0  \n",
       "4                    82     -1.706200              1                        1  "
      ]
     },
     "execution_count": 492,
     "metadata": {},
     "output_type": "execute_result"
    }
   ],
   "source": [
    "df.head()"
   ]
  },
  {
   "cell_type": "code",
   "execution_count": 493,
   "id": "70f6ce4c",
   "metadata": {},
   "outputs": [
    {
     "data": {
      "text/plain": [
       "customer_id                 object\n",
       "name                        object\n",
       "age                          int64\n",
       "gender                      object\n",
       "owns_car                    object\n",
       "owns_house                  object\n",
       "no_of_children             float64\n",
       "net_yearly_income          float64\n",
       "no_of_days_employed        float64\n",
       "occupation_type             object\n",
       "total_family_members       float64\n",
       "migrant_worker             float64\n",
       "yearly_debt_payments       float64\n",
       "credit_limit               float64\n",
       "credit_limit_used(%)         int64\n",
       "credit_score               float64\n",
       "prev_defaults                int64\n",
       "default_in_last_6months      int64\n",
       "dtype: object"
      ]
     },
     "execution_count": 493,
     "metadata": {},
     "output_type": "execute_result"
    }
   ],
   "source": [
    "df.dtypes"
   ]
  },
  {
   "cell_type": "code",
   "execution_count": 494,
   "id": "4d33e2b2",
   "metadata": {},
   "outputs": [
    {
     "data": {
      "text/html": [
       "<div>\n",
       "<style scoped>\n",
       "    .dataframe tbody tr th:only-of-type {\n",
       "        vertical-align: middle;\n",
       "    }\n",
       "\n",
       "    .dataframe tbody tr th {\n",
       "        vertical-align: top;\n",
       "    }\n",
       "\n",
       "    .dataframe thead th {\n",
       "        text-align: right;\n",
       "    }\n",
       "</style>\n",
       "<table border=\"1\" class=\"dataframe\">\n",
       "  <thead>\n",
       "    <tr style=\"text-align: right;\">\n",
       "      <th></th>\n",
       "      <th>customer_id</th>\n",
       "      <th>name</th>\n",
       "      <th>age</th>\n",
       "      <th>gender</th>\n",
       "      <th>owns_car</th>\n",
       "      <th>owns_house</th>\n",
       "      <th>no_of_children</th>\n",
       "      <th>net_yearly_income</th>\n",
       "      <th>no_of_days_employed</th>\n",
       "      <th>occupation_type</th>\n",
       "      <th>total_family_members</th>\n",
       "      <th>migrant_worker</th>\n",
       "      <th>yearly_debt_payments</th>\n",
       "      <th>credit_limit</th>\n",
       "      <th>credit_limit_used(%)</th>\n",
       "      <th>credit_score</th>\n",
       "      <th>prev_defaults</th>\n",
       "      <th>default_in_last_6months</th>\n",
       "    </tr>\n",
       "  </thead>\n",
       "  <tbody>\n",
       "    <tr>\n",
       "      <th>0</th>\n",
       "      <td>142525</td>\n",
       "      <td>Siva</td>\n",
       "      <td>52</td>\n",
       "      <td>F</td>\n",
       "      <td>Y</td>\n",
       "      <td>N</td>\n",
       "      <td>0.0</td>\n",
       "      <td>0.294587</td>\n",
       "      <td>-0.466483</td>\n",
       "      <td>Unknown</td>\n",
       "      <td>2.0</td>\n",
       "      <td>0.0</td>\n",
       "      <td>-1.015316</td>\n",
       "      <td>-0.560891</td>\n",
       "      <td>4</td>\n",
       "      <td>-0.053653</td>\n",
       "      <td>0</td>\n",
       "      <td>0</td>\n",
       "    </tr>\n",
       "    <tr>\n",
       "      <th>1</th>\n",
       "      <td>129215</td>\n",
       "      <td>Scott</td>\n",
       "      <td>48</td>\n",
       "      <td>F</td>\n",
       "      <td>N</td>\n",
       "      <td>N</td>\n",
       "      <td>1.0</td>\n",
       "      <td>0.743917</td>\n",
       "      <td>-0.464002</td>\n",
       "      <td>Unknown</td>\n",
       "      <td>3.0</td>\n",
       "      <td>0.0</td>\n",
       "      <td>1.460122</td>\n",
       "      <td>0.887537</td>\n",
       "      <td>70</td>\n",
       "      <td>0.215135</td>\n",
       "      <td>0</td>\n",
       "      <td>0</td>\n",
       "    </tr>\n",
       "    <tr>\n",
       "      <th>2</th>\n",
       "      <td>138443</td>\n",
       "      <td>Victoria</td>\n",
       "      <td>50</td>\n",
       "      <td>F</td>\n",
       "      <td>N</td>\n",
       "      <td>N</td>\n",
       "      <td>1.0</td>\n",
       "      <td>-0.427911</td>\n",
       "      <td>-0.464936</td>\n",
       "      <td>Unknown</td>\n",
       "      <td>3.0</td>\n",
       "      <td>0.0</td>\n",
       "      <td>-0.601283</td>\n",
       "      <td>-0.606471</td>\n",
       "      <td>71</td>\n",
       "      <td>-2.552384</td>\n",
       "      <td>2</td>\n",
       "      <td>0</td>\n",
       "    </tr>\n",
       "    <tr>\n",
       "      <th>3</th>\n",
       "      <td>123812</td>\n",
       "      <td>John McCrank</td>\n",
       "      <td>30</td>\n",
       "      <td>F</td>\n",
       "      <td>N</td>\n",
       "      <td>N</td>\n",
       "      <td>1.0</td>\n",
       "      <td>-0.332254</td>\n",
       "      <td>-0.470094</td>\n",
       "      <td>Laborers</td>\n",
       "      <td>2.0</td>\n",
       "      <td>1.0</td>\n",
       "      <td>-0.177166</td>\n",
       "      <td>-0.470353</td>\n",
       "      <td>9</td>\n",
       "      <td>0.304731</td>\n",
       "      <td>0</td>\n",
       "      <td>0</td>\n",
       "    </tr>\n",
       "    <tr>\n",
       "      <th>4</th>\n",
       "      <td>144450</td>\n",
       "      <td>Martinne</td>\n",
       "      <td>52</td>\n",
       "      <td>M</td>\n",
       "      <td>N</td>\n",
       "      <td>Y</td>\n",
       "      <td>0.0</td>\n",
       "      <td>0.301878</td>\n",
       "      <td>-0.472619</td>\n",
       "      <td>Laborers</td>\n",
       "      <td>2.0</td>\n",
       "      <td>1.0</td>\n",
       "      <td>1.272408</td>\n",
       "      <td>1.342213</td>\n",
       "      <td>82</td>\n",
       "      <td>-1.706200</td>\n",
       "      <td>1</td>\n",
       "      <td>1</td>\n",
       "    </tr>\n",
       "  </tbody>\n",
       "</table>\n",
       "</div>"
      ],
      "text/plain": [
       "   customer_id          name  age gender owns_car owns_house  no_of_children  \\\n",
       "0       142525          Siva   52      F        Y          N             0.0   \n",
       "1       129215         Scott   48      F        N          N             1.0   \n",
       "2       138443      Victoria   50      F        N          N             1.0   \n",
       "3       123812  John McCrank   30      F        N          N             1.0   \n",
       "4       144450      Martinne   52      M        N          Y             0.0   \n",
       "\n",
       "   net_yearly_income  no_of_days_employed occupation_type  \\\n",
       "0           0.294587            -0.466483         Unknown   \n",
       "1           0.743917            -0.464002         Unknown   \n",
       "2          -0.427911            -0.464936         Unknown   \n",
       "3          -0.332254            -0.470094        Laborers   \n",
       "4           0.301878            -0.472619        Laborers   \n",
       "\n",
       "   total_family_members  migrant_worker  yearly_debt_payments  credit_limit  \\\n",
       "0                   2.0             0.0             -1.015316     -0.560891   \n",
       "1                   3.0             0.0              1.460122      0.887537   \n",
       "2                   3.0             0.0             -0.601283     -0.606471   \n",
       "3                   2.0             1.0             -0.177166     -0.470353   \n",
       "4                   2.0             1.0              1.272408      1.342213   \n",
       "\n",
       "   credit_limit_used(%)  credit_score  prev_defaults  default_in_last_6months  \n",
       "0                     4     -0.053653              0                        0  \n",
       "1                    70      0.215135              0                        0  \n",
       "2                    71     -2.552384              2                        0  \n",
       "3                     9      0.304731              0                        0  \n",
       "4                    82     -1.706200              1                        1  "
      ]
     },
     "execution_count": 494,
     "metadata": {},
     "output_type": "execute_result"
    }
   ],
   "source": [
    "#prparing customer id for encoding\n",
    "df['customer_id']=df['customer_id'].str[4:].astype(int)\n",
    "df.head()"
   ]
  },
  {
   "cell_type": "code",
   "execution_count": 495,
   "id": "656127c2",
   "metadata": {},
   "outputs": [
    {
     "data": {
      "text/html": [
       "<div>\n",
       "<style scoped>\n",
       "    .dataframe tbody tr th:only-of-type {\n",
       "        vertical-align: middle;\n",
       "    }\n",
       "\n",
       "    .dataframe tbody tr th {\n",
       "        vertical-align: top;\n",
       "    }\n",
       "\n",
       "    .dataframe thead th {\n",
       "        text-align: right;\n",
       "    }\n",
       "</style>\n",
       "<table border=\"1\" class=\"dataframe\">\n",
       "  <thead>\n",
       "    <tr style=\"text-align: right;\">\n",
       "      <th></th>\n",
       "      <th>customer_id</th>\n",
       "      <th>age</th>\n",
       "      <th>gender</th>\n",
       "      <th>owns_car</th>\n",
       "      <th>owns_house</th>\n",
       "      <th>no_of_children</th>\n",
       "      <th>net_yearly_income</th>\n",
       "      <th>no_of_days_employed</th>\n",
       "      <th>occupation_type</th>\n",
       "      <th>total_family_members</th>\n",
       "      <th>migrant_worker</th>\n",
       "      <th>yearly_debt_payments</th>\n",
       "      <th>credit_limit</th>\n",
       "      <th>credit_limit_used(%)</th>\n",
       "      <th>credit_score</th>\n",
       "      <th>prev_defaults</th>\n",
       "      <th>default_in_last_6months</th>\n",
       "    </tr>\n",
       "  </thead>\n",
       "  <tbody>\n",
       "    <tr>\n",
       "      <th>0</th>\n",
       "      <td>142525</td>\n",
       "      <td>52</td>\n",
       "      <td>F</td>\n",
       "      <td>Y</td>\n",
       "      <td>N</td>\n",
       "      <td>0.0</td>\n",
       "      <td>0.294587</td>\n",
       "      <td>-0.466483</td>\n",
       "      <td>Unknown</td>\n",
       "      <td>2.0</td>\n",
       "      <td>0.0</td>\n",
       "      <td>-1.015316</td>\n",
       "      <td>-0.560891</td>\n",
       "      <td>4</td>\n",
       "      <td>-0.053653</td>\n",
       "      <td>0</td>\n",
       "      <td>0</td>\n",
       "    </tr>\n",
       "    <tr>\n",
       "      <th>1</th>\n",
       "      <td>129215</td>\n",
       "      <td>48</td>\n",
       "      <td>F</td>\n",
       "      <td>N</td>\n",
       "      <td>N</td>\n",
       "      <td>1.0</td>\n",
       "      <td>0.743917</td>\n",
       "      <td>-0.464002</td>\n",
       "      <td>Unknown</td>\n",
       "      <td>3.0</td>\n",
       "      <td>0.0</td>\n",
       "      <td>1.460122</td>\n",
       "      <td>0.887537</td>\n",
       "      <td>70</td>\n",
       "      <td>0.215135</td>\n",
       "      <td>0</td>\n",
       "      <td>0</td>\n",
       "    </tr>\n",
       "    <tr>\n",
       "      <th>2</th>\n",
       "      <td>138443</td>\n",
       "      <td>50</td>\n",
       "      <td>F</td>\n",
       "      <td>N</td>\n",
       "      <td>N</td>\n",
       "      <td>1.0</td>\n",
       "      <td>-0.427911</td>\n",
       "      <td>-0.464936</td>\n",
       "      <td>Unknown</td>\n",
       "      <td>3.0</td>\n",
       "      <td>0.0</td>\n",
       "      <td>-0.601283</td>\n",
       "      <td>-0.606471</td>\n",
       "      <td>71</td>\n",
       "      <td>-2.552384</td>\n",
       "      <td>2</td>\n",
       "      <td>0</td>\n",
       "    </tr>\n",
       "    <tr>\n",
       "      <th>3</th>\n",
       "      <td>123812</td>\n",
       "      <td>30</td>\n",
       "      <td>F</td>\n",
       "      <td>N</td>\n",
       "      <td>N</td>\n",
       "      <td>1.0</td>\n",
       "      <td>-0.332254</td>\n",
       "      <td>-0.470094</td>\n",
       "      <td>Laborers</td>\n",
       "      <td>2.0</td>\n",
       "      <td>1.0</td>\n",
       "      <td>-0.177166</td>\n",
       "      <td>-0.470353</td>\n",
       "      <td>9</td>\n",
       "      <td>0.304731</td>\n",
       "      <td>0</td>\n",
       "      <td>0</td>\n",
       "    </tr>\n",
       "    <tr>\n",
       "      <th>4</th>\n",
       "      <td>144450</td>\n",
       "      <td>52</td>\n",
       "      <td>M</td>\n",
       "      <td>N</td>\n",
       "      <td>Y</td>\n",
       "      <td>0.0</td>\n",
       "      <td>0.301878</td>\n",
       "      <td>-0.472619</td>\n",
       "      <td>Laborers</td>\n",
       "      <td>2.0</td>\n",
       "      <td>1.0</td>\n",
       "      <td>1.272408</td>\n",
       "      <td>1.342213</td>\n",
       "      <td>82</td>\n",
       "      <td>-1.706200</td>\n",
       "      <td>1</td>\n",
       "      <td>1</td>\n",
       "    </tr>\n",
       "  </tbody>\n",
       "</table>\n",
       "</div>"
      ],
      "text/plain": [
       "   customer_id  age gender owns_car owns_house  no_of_children  \\\n",
       "0       142525   52      F        Y          N             0.0   \n",
       "1       129215   48      F        N          N             1.0   \n",
       "2       138443   50      F        N          N             1.0   \n",
       "3       123812   30      F        N          N             1.0   \n",
       "4       144450   52      M        N          Y             0.0   \n",
       "\n",
       "   net_yearly_income  no_of_days_employed occupation_type  \\\n",
       "0           0.294587            -0.466483         Unknown   \n",
       "1           0.743917            -0.464002         Unknown   \n",
       "2          -0.427911            -0.464936         Unknown   \n",
       "3          -0.332254            -0.470094        Laborers   \n",
       "4           0.301878            -0.472619        Laborers   \n",
       "\n",
       "   total_family_members  migrant_worker  yearly_debt_payments  credit_limit  \\\n",
       "0                   2.0             0.0             -1.015316     -0.560891   \n",
       "1                   3.0             0.0              1.460122      0.887537   \n",
       "2                   3.0             0.0             -0.601283     -0.606471   \n",
       "3                   2.0             1.0             -0.177166     -0.470353   \n",
       "4                   2.0             1.0              1.272408      1.342213   \n",
       "\n",
       "   credit_limit_used(%)  credit_score  prev_defaults  default_in_last_6months  \n",
       "0                     4     -0.053653              0                        0  \n",
       "1                    70      0.215135              0                        0  \n",
       "2                    71     -2.552384              2                        0  \n",
       "3                     9      0.304731              0                        0  \n",
       "4                    82     -1.706200              1                        1  "
      ]
     },
     "execution_count": 495,
     "metadata": {},
     "output_type": "execute_result"
    }
   ],
   "source": [
    "#name is not a neccessary feature.for dropping it\n",
    "df=df.drop(['name'], axis = 1)\n",
    "df.head()"
   ]
  },
  {
   "cell_type": "code",
   "execution_count": 496,
   "id": "d8ab2beb",
   "metadata": {},
   "outputs": [
    {
     "data": {
      "text/plain": [
       "customer_id                          int32\n",
       "age                                  int64\n",
       "no_of_children                     float64\n",
       "net_yearly_income                  float64\n",
       "no_of_days_employed                float64\n",
       "total_family_members               float64\n",
       "migrant_worker                     float64\n",
       "yearly_debt_payments               float64\n",
       "credit_limit                       float64\n",
       "credit_limit_used(%)                 int64\n",
       "credit_score                       float64\n",
       "prev_defaults                        int64\n",
       "default_in_last_6months              int64\n",
       "gender_F                             uint8\n",
       "gender_M                             uint8\n",
       "gender_XNA                           uint8\n",
       "car_N                                uint8\n",
       "car_Y                                uint8\n",
       "house_N                              uint8\n",
       "house_Y                              uint8\n",
       "occu_type_Accountants                uint8\n",
       "occu_type_Cleaning staff             uint8\n",
       "occu_type_Cooking staff              uint8\n",
       "occu_type_Core staff                 uint8\n",
       "occu_type_Drivers                    uint8\n",
       "occu_type_HR staff                   uint8\n",
       "occu_type_High skill tech staff      uint8\n",
       "occu_type_IT staff                   uint8\n",
       "occu_type_Laborers                   uint8\n",
       "occu_type_Low-skill Laborers         uint8\n",
       "occu_type_Managers                   uint8\n",
       "occu_type_Medicine staff             uint8\n",
       "occu_type_Private service staff      uint8\n",
       "occu_type_Realty agents              uint8\n",
       "occu_type_Sales staff                uint8\n",
       "occu_type_Secretaries                uint8\n",
       "occu_type_Security staff             uint8\n",
       "occu_type_Unknown                    uint8\n",
       "occu_type_Waiters/barmen staff       uint8\n",
       "dtype: object"
      ]
     },
     "execution_count": 496,
     "metadata": {},
     "output_type": "execute_result"
    }
   ],
   "source": [
    "#onehot encoding remaining object types\n",
    "df=pd.get_dummies(df,columns=[\"gender\", \"owns_car\",\"owns_house\",\"occupation_type\"], prefix=[\"gender\", \"car\",\"house\",\"occu_type\"])\n",
    "df.dtypes"
   ]
  },
  {
   "cell_type": "code",
   "execution_count": 497,
   "id": "e2424067",
   "metadata": {},
   "outputs": [
    {
     "data": {
      "text/plain": [
       "customer_id                 object\n",
       "name                        object\n",
       "age                          int64\n",
       "gender                      object\n",
       "owns_car                    object\n",
       "owns_house                  object\n",
       "no_of_children             float64\n",
       "net_yearly_income          float64\n",
       "no_of_days_employed        float64\n",
       "occupation_type             object\n",
       "total_family_members       float64\n",
       "migrant_worker             float64\n",
       "yearly_debt_payments       float64\n",
       "credit_limit               float64\n",
       "credit_limit_used(%)         int64\n",
       "credit_score               float64\n",
       "prev_defaults                int64\n",
       "default_in_last_6months      int64\n",
       "credit_card_default          int64\n",
       "dtype: object"
      ]
     },
     "execution_count": 497,
     "metadata": {},
     "output_type": "execute_result"
    }
   ],
   "source": [
    "#now taking the training data for preparation\n",
    "tf.dtypes"
   ]
  },
  {
   "cell_type": "code",
   "execution_count": 498,
   "id": "f8ea079c",
   "metadata": {
    "scrolled": true
   },
   "outputs": [
    {
     "data": {
      "text/plain": [
       "customer_id                  0\n",
       "name                         0\n",
       "age                          0\n",
       "gender                       0\n",
       "owns_car                   547\n",
       "owns_house                   0\n",
       "no_of_children             774\n",
       "net_yearly_income            0\n",
       "no_of_days_employed        463\n",
       "occupation_type              0\n",
       "total_family_members        83\n",
       "migrant_worker              87\n",
       "yearly_debt_payments        95\n",
       "credit_limit                 0\n",
       "credit_limit_used(%)         0\n",
       "credit_score                 8\n",
       "prev_defaults                0\n",
       "default_in_last_6months      0\n",
       "credit_card_default          0\n",
       "dtype: int64"
      ]
     },
     "execution_count": 498,
     "metadata": {},
     "output_type": "execute_result"
    }
   ],
   "source": [
    "#finding null values\n",
    "tf.isna().sum()"
   ]
  },
  {
   "cell_type": "code",
   "execution_count": 499,
   "id": "18c8fd7a",
   "metadata": {
    "scrolled": false
   },
   "outputs": [
    {
     "data": {
      "text/plain": [
       "customer_id                0\n",
       "name                       0\n",
       "age                        0\n",
       "gender                     0\n",
       "owns_car                   0\n",
       "owns_house                 0\n",
       "no_of_children             0\n",
       "net_yearly_income          0\n",
       "no_of_days_employed        0\n",
       "occupation_type            0\n",
       "total_family_members       0\n",
       "migrant_worker             0\n",
       "yearly_debt_payments       0\n",
       "credit_limit               0\n",
       "credit_limit_used(%)       0\n",
       "credit_score               0\n",
       "prev_defaults              0\n",
       "default_in_last_6months    0\n",
       "credit_card_default        0\n",
       "dtype: int64"
      ]
     },
     "execution_count": 499,
     "metadata": {},
     "output_type": "execute_result"
    }
   ],
   "source": [
    "#replacing null values with mean in a negative skewed graph,with median in positive skwed graph and categorical data with mode\n",
    "tf['owns_car'] = tf['owns_car'].fillna(tf['owns_car'].mode()[0])\n",
    "tf['no_of_children'].fillna(value = tf['no_of_children'].median(), inplace = True)\n",
    "tf['no_of_days_employed'].fillna(value = tf['no_of_days_employed'].median(), inplace = True)\n",
    "tf['total_family_members'].fillna(value = tf['total_family_members'].median(), inplace = True)\n",
    "tf['migrant_worker'].fillna(value = tf['migrant_worker'].median(), inplace = True)\n",
    "tf['yearly_debt_payments'].fillna(value = tf['yearly_debt_payments'].median(), inplace = True)\n",
    "tf['credit_score'].fillna(value = tf['credit_score'].mean(), inplace = True)\n",
    "tf.isna().sum()"
   ]
  },
  {
   "cell_type": "code",
   "execution_count": 500,
   "id": "ccd8f889",
   "metadata": {
    "scrolled": true
   },
   "outputs": [
    {
     "data": {
      "text/html": [
       "<div>\n",
       "<style scoped>\n",
       "    .dataframe tbody tr th:only-of-type {\n",
       "        vertical-align: middle;\n",
       "    }\n",
       "\n",
       "    .dataframe tbody tr th {\n",
       "        vertical-align: top;\n",
       "    }\n",
       "\n",
       "    .dataframe thead th {\n",
       "        text-align: right;\n",
       "    }\n",
       "</style>\n",
       "<table border=\"1\" class=\"dataframe\">\n",
       "  <thead>\n",
       "    <tr style=\"text-align: right;\">\n",
       "      <th></th>\n",
       "      <th>customer_id</th>\n",
       "      <th>age</th>\n",
       "      <th>gender</th>\n",
       "      <th>owns_car</th>\n",
       "      <th>owns_house</th>\n",
       "      <th>no_of_children</th>\n",
       "      <th>net_yearly_income</th>\n",
       "      <th>no_of_days_employed</th>\n",
       "      <th>occupation_type</th>\n",
       "      <th>total_family_members</th>\n",
       "      <th>migrant_worker</th>\n",
       "      <th>yearly_debt_payments</th>\n",
       "      <th>credit_limit</th>\n",
       "      <th>credit_limit_used(%)</th>\n",
       "      <th>credit_score</th>\n",
       "      <th>prev_defaults</th>\n",
       "      <th>default_in_last_6months</th>\n",
       "      <th>credit_card_default</th>\n",
       "    </tr>\n",
       "  </thead>\n",
       "  <tbody>\n",
       "    <tr>\n",
       "      <th>0</th>\n",
       "      <td>CST_115179</td>\n",
       "      <td>46</td>\n",
       "      <td>F</td>\n",
       "      <td>N</td>\n",
       "      <td>Y</td>\n",
       "      <td>0.0</td>\n",
       "      <td>107934.04</td>\n",
       "      <td>612.0</td>\n",
       "      <td>Unknown</td>\n",
       "      <td>1.0</td>\n",
       "      <td>1.0</td>\n",
       "      <td>33070.28</td>\n",
       "      <td>18690.93</td>\n",
       "      <td>73</td>\n",
       "      <td>544.0</td>\n",
       "      <td>2</td>\n",
       "      <td>1</td>\n",
       "      <td>1</td>\n",
       "    </tr>\n",
       "    <tr>\n",
       "      <th>1</th>\n",
       "      <td>CST_121920</td>\n",
       "      <td>29</td>\n",
       "      <td>M</td>\n",
       "      <td>N</td>\n",
       "      <td>Y</td>\n",
       "      <td>0.0</td>\n",
       "      <td>109862.62</td>\n",
       "      <td>2771.0</td>\n",
       "      <td>Laborers</td>\n",
       "      <td>2.0</td>\n",
       "      <td>0.0</td>\n",
       "      <td>15329.53</td>\n",
       "      <td>37745.19</td>\n",
       "      <td>52</td>\n",
       "      <td>857.0</td>\n",
       "      <td>0</td>\n",
       "      <td>0</td>\n",
       "      <td>0</td>\n",
       "    </tr>\n",
       "    <tr>\n",
       "      <th>2</th>\n",
       "      <td>CST_109330</td>\n",
       "      <td>37</td>\n",
       "      <td>M</td>\n",
       "      <td>N</td>\n",
       "      <td>Y</td>\n",
       "      <td>0.0</td>\n",
       "      <td>230153.17</td>\n",
       "      <td>204.0</td>\n",
       "      <td>Laborers</td>\n",
       "      <td>2.0</td>\n",
       "      <td>0.0</td>\n",
       "      <td>48416.60</td>\n",
       "      <td>41598.36</td>\n",
       "      <td>43</td>\n",
       "      <td>650.0</td>\n",
       "      <td>0</td>\n",
       "      <td>0</td>\n",
       "      <td>0</td>\n",
       "    </tr>\n",
       "    <tr>\n",
       "      <th>3</th>\n",
       "      <td>CST_128288</td>\n",
       "      <td>39</td>\n",
       "      <td>F</td>\n",
       "      <td>N</td>\n",
       "      <td>Y</td>\n",
       "      <td>0.0</td>\n",
       "      <td>122325.82</td>\n",
       "      <td>11941.0</td>\n",
       "      <td>Core staff</td>\n",
       "      <td>2.0</td>\n",
       "      <td>0.0</td>\n",
       "      <td>22574.36</td>\n",
       "      <td>32627.76</td>\n",
       "      <td>20</td>\n",
       "      <td>754.0</td>\n",
       "      <td>0</td>\n",
       "      <td>0</td>\n",
       "      <td>0</td>\n",
       "    </tr>\n",
       "    <tr>\n",
       "      <th>4</th>\n",
       "      <td>CST_151355</td>\n",
       "      <td>46</td>\n",
       "      <td>M</td>\n",
       "      <td>Y</td>\n",
       "      <td>Y</td>\n",
       "      <td>0.0</td>\n",
       "      <td>387286.00</td>\n",
       "      <td>1459.0</td>\n",
       "      <td>Core staff</td>\n",
       "      <td>1.0</td>\n",
       "      <td>0.0</td>\n",
       "      <td>38282.95</td>\n",
       "      <td>52950.64</td>\n",
       "      <td>75</td>\n",
       "      <td>927.0</td>\n",
       "      <td>0</td>\n",
       "      <td>0</td>\n",
       "      <td>0</td>\n",
       "    </tr>\n",
       "  </tbody>\n",
       "</table>\n",
       "</div>"
      ],
      "text/plain": [
       "  customer_id  age gender owns_car owns_house  no_of_children  \\\n",
       "0  CST_115179   46      F        N          Y             0.0   \n",
       "1  CST_121920   29      M        N          Y             0.0   \n",
       "2  CST_109330   37      M        N          Y             0.0   \n",
       "3  CST_128288   39      F        N          Y             0.0   \n",
       "4  CST_151355   46      M        Y          Y             0.0   \n",
       "\n",
       "   net_yearly_income  no_of_days_employed occupation_type  \\\n",
       "0          107934.04                612.0         Unknown   \n",
       "1          109862.62               2771.0        Laborers   \n",
       "2          230153.17                204.0        Laborers   \n",
       "3          122325.82              11941.0      Core staff   \n",
       "4          387286.00               1459.0      Core staff   \n",
       "\n",
       "   total_family_members  migrant_worker  yearly_debt_payments  credit_limit  \\\n",
       "0                   1.0             1.0              33070.28      18690.93   \n",
       "1                   2.0             0.0              15329.53      37745.19   \n",
       "2                   2.0             0.0              48416.60      41598.36   \n",
       "3                   2.0             0.0              22574.36      32627.76   \n",
       "4                   1.0             0.0              38282.95      52950.64   \n",
       "\n",
       "   credit_limit_used(%)  credit_score  prev_defaults  default_in_last_6months  \\\n",
       "0                    73         544.0              2                        1   \n",
       "1                    52         857.0              0                        0   \n",
       "2                    43         650.0              0                        0   \n",
       "3                    20         754.0              0                        0   \n",
       "4                    75         927.0              0                        0   \n",
       "\n",
       "   credit_card_default  \n",
       "0                    1  \n",
       "1                    0  \n",
       "2                    0  \n",
       "3                    0  \n",
       "4                    0  "
      ]
     },
     "execution_count": 500,
     "metadata": {},
     "output_type": "execute_result"
    }
   ],
   "source": [
    "#dropping the name since is not required\n",
    "tf=tf.drop(['name'], axis = 1)\n",
    "tf.head()"
   ]
  },
  {
   "cell_type": "code",
   "execution_count": 501,
   "id": "0b8c58c3",
   "metadata": {},
   "outputs": [
    {
     "data": {
      "text/plain": [
       "customer_id                         object\n",
       "age                                  int64\n",
       "no_of_children                     float64\n",
       "net_yearly_income                  float64\n",
       "no_of_days_employed                float64\n",
       "total_family_members               float64\n",
       "migrant_worker                     float64\n",
       "yearly_debt_payments               float64\n",
       "credit_limit                       float64\n",
       "credit_limit_used(%)                 int64\n",
       "credit_score                       float64\n",
       "prev_defaults                        int64\n",
       "default_in_last_6months              int64\n",
       "credit_card_default                  int64\n",
       "gender_F                             uint8\n",
       "gender_M                             uint8\n",
       "gender_XNA                           uint8\n",
       "car_N                                uint8\n",
       "car_Y                                uint8\n",
       "house_N                              uint8\n",
       "house_Y                              uint8\n",
       "occu_type_Accountants                uint8\n",
       "occu_type_Cleaning staff             uint8\n",
       "occu_type_Cooking staff              uint8\n",
       "occu_type_Core staff                 uint8\n",
       "occu_type_Drivers                    uint8\n",
       "occu_type_HR staff                   uint8\n",
       "occu_type_High skill tech staff      uint8\n",
       "occu_type_IT staff                   uint8\n",
       "occu_type_Laborers                   uint8\n",
       "occu_type_Low-skill Laborers         uint8\n",
       "occu_type_Managers                   uint8\n",
       "occu_type_Medicine staff             uint8\n",
       "occu_type_Private service staff      uint8\n",
       "occu_type_Realty agents              uint8\n",
       "occu_type_Sales staff                uint8\n",
       "occu_type_Secretaries                uint8\n",
       "occu_type_Security staff             uint8\n",
       "occu_type_Unknown                    uint8\n",
       "occu_type_Waiters/barmen staff       uint8\n",
       "dtype: object"
      ]
     },
     "execution_count": 501,
     "metadata": {},
     "output_type": "execute_result"
    }
   ],
   "source": [
    "#one hot encoding \n",
    "tf=pd.get_dummies(tf,columns=[\"gender\", \"owns_car\",\"owns_house\",\"occupation_type\"], prefix=[\"gender\", \"car\",\"house\",\"occu_type\"])\n",
    "tf.dtypes"
   ]
  },
  {
   "cell_type": "code",
   "execution_count": 502,
   "id": "745fbd4d",
   "metadata": {},
   "outputs": [
    {
     "data": {
      "text/plain": [
       "customer_id                          int32\n",
       "age                                  int64\n",
       "no_of_children                     float64\n",
       "net_yearly_income                  float64\n",
       "no_of_days_employed                float64\n",
       "total_family_members               float64\n",
       "migrant_worker                     float64\n",
       "yearly_debt_payments               float64\n",
       "credit_limit                       float64\n",
       "credit_limit_used(%)                 int64\n",
       "credit_score                       float64\n",
       "prev_defaults                        int64\n",
       "default_in_last_6months              int64\n",
       "credit_card_default                  int64\n",
       "gender_F                             uint8\n",
       "gender_M                             uint8\n",
       "gender_XNA                           uint8\n",
       "car_N                                uint8\n",
       "car_Y                                uint8\n",
       "house_N                              uint8\n",
       "house_Y                              uint8\n",
       "occu_type_Accountants                uint8\n",
       "occu_type_Cleaning staff             uint8\n",
       "occu_type_Cooking staff              uint8\n",
       "occu_type_Core staff                 uint8\n",
       "occu_type_Drivers                    uint8\n",
       "occu_type_HR staff                   uint8\n",
       "occu_type_High skill tech staff      uint8\n",
       "occu_type_IT staff                   uint8\n",
       "occu_type_Laborers                   uint8\n",
       "occu_type_Low-skill Laborers         uint8\n",
       "occu_type_Managers                   uint8\n",
       "occu_type_Medicine staff             uint8\n",
       "occu_type_Private service staff      uint8\n",
       "occu_type_Realty agents              uint8\n",
       "occu_type_Sales staff                uint8\n",
       "occu_type_Secretaries                uint8\n",
       "occu_type_Security staff             uint8\n",
       "occu_type_Unknown                    uint8\n",
       "occu_type_Waiters/barmen staff       uint8\n",
       "dtype: object"
      ]
     },
     "execution_count": 502,
     "metadata": {},
     "output_type": "execute_result"
    }
   ],
   "source": [
    "#converting customer id into int\n",
    "tf['customer_id']=tf['customer_id'].str[4:].astype(int)\n",
    "tf.dtypes"
   ]
  },
  {
   "cell_type": "code",
   "execution_count": 503,
   "id": "c9676d35",
   "metadata": {},
   "outputs": [],
   "source": [
    "#standardisation of train data\n",
    "from sklearn import preprocessing\n",
    "n=tf[['credit_limit'] ]\n",
    "m=tf[['no_of_days_employed']]\n",
    "o=tf[['yearly_debt_payments']]\n",
    "p=tf[['net_yearly_income']]\n",
    "q=tf[['credit_score']]\n",
    "Standardisation = preprocessing.StandardScaler()\n",
    "# Scaled feature\n",
    "tf['credit_limit']= Standardisation.fit_transform(n)\n",
    "tf['no_of_days_employed']= Standardisation.fit_transform(m)\n",
    "tf['yearly_debt_payments']= Standardisation.fit_transform(o)\n",
    "tf['net_yearly_income']= Standardisation.fit_transform(p)\n",
    "tf['credit_score']= Standardisation.fit_transform(q)"
   ]
  },
  {
   "cell_type": "code",
   "execution_count": 504,
   "id": "03e9d16f",
   "metadata": {},
   "outputs": [],
   "source": [
    "#splitting into x and y\n",
    "x = tf\n",
    "y = tf['credit_card_default']"
   ]
  },
  {
   "cell_type": "code",
   "execution_count": 505,
   "id": "86eb377d",
   "metadata": {},
   "outputs": [
    {
     "data": {
      "text/plain": [
       "(45528, 40)"
      ]
     },
     "execution_count": 505,
     "metadata": {},
     "output_type": "execute_result"
    }
   ],
   "source": [
    "x.shape"
   ]
  },
  {
   "cell_type": "code",
   "execution_count": 506,
   "id": "3590c4a0",
   "metadata": {},
   "outputs": [
    {
     "data": {
      "text/plain": [
       "(45528,)"
      ]
     },
     "execution_count": 506,
     "metadata": {},
     "output_type": "execute_result"
    }
   ],
   "source": [
    "y.shape"
   ]
  },
  {
   "cell_type": "code",
   "execution_count": 507,
   "id": "4fde9da5",
   "metadata": {},
   "outputs": [],
   "source": [
    "#test and train split\n",
    "from sklearn.model_selection import train_test_split\n",
    "x_train, x_test, y_train, y_test = train_test_split(x, y, random_state = 42, test_size = 0.30)"
   ]
  },
  {
   "cell_type": "code",
   "execution_count": 508,
   "id": "d66e2813",
   "metadata": {},
   "outputs": [
    {
     "data": {
      "text/plain": [
       "(31869, 40)"
      ]
     },
     "execution_count": 508,
     "metadata": {},
     "output_type": "execute_result"
    }
   ],
   "source": [
    "x_train.shape"
   ]
  },
  {
   "cell_type": "code",
   "execution_count": 509,
   "id": "102c1d85",
   "metadata": {},
   "outputs": [
    {
     "data": {
      "text/plain": [
       "(31869,)"
      ]
     },
     "execution_count": 509,
     "metadata": {},
     "output_type": "execute_result"
    }
   ],
   "source": [
    "y_train.shape"
   ]
  },
  {
   "cell_type": "code",
   "execution_count": 511,
   "id": "74e009c1",
   "metadata": {},
   "outputs": [
    {
     "data": {
      "text/plain": [
       "(13659,)"
      ]
     },
     "execution_count": 511,
     "metadata": {},
     "output_type": "execute_result"
    }
   ],
   "source": [
    "y_test.shape"
   ]
  },
  {
   "cell_type": "code",
   "execution_count": 512,
   "id": "fb7bd288",
   "metadata": {},
   "outputs": [],
   "source": [
    "#since it is a discreet variable output.logistic regression is best.it is most useful for understanding the influence of several independant variables on a single outcome\n",
    "from sklearn.linear_model import LogisticRegression\n",
    "model = LogisticRegression(random_state=0).fit(x_train, y_train)\n",
    "pred = model.predict(x_test)"
   ]
  },
  {
   "cell_type": "code",
   "execution_count": 513,
   "id": "e350d097",
   "metadata": {
    "scrolled": true
   },
   "outputs": [
    {
     "name": "stdout",
     "output_type": "stream",
     "text": [
      "f1 score =  96.3896025628826\n"
     ]
    }
   ],
   "source": [
    "from sklearn import metrics\n",
    "print('f1 score = ',100* metrics.f1_score(y_test,pred,average='macro'))"
   ]
  },
  {
   "cell_type": "code",
   "execution_count": null,
   "id": "e4234026",
   "metadata": {},
   "outputs": [],
   "source": [
    "#got an accuracy of 96%"
   ]
  },
  {
   "cell_type": "code",
   "execution_count": 514,
   "id": "4add21ad",
   "metadata": {},
   "outputs": [
    {
     "data": {
      "text/html": [
       "<div>\n",
       "<style scoped>\n",
       "    .dataframe tbody tr th:only-of-type {\n",
       "        vertical-align: middle;\n",
       "    }\n",
       "\n",
       "    .dataframe tbody tr th {\n",
       "        vertical-align: top;\n",
       "    }\n",
       "\n",
       "    .dataframe thead th {\n",
       "        text-align: right;\n",
       "    }\n",
       "</style>\n",
       "<table border=\"1\" class=\"dataframe\">\n",
       "  <thead>\n",
       "    <tr style=\"text-align: right;\">\n",
       "      <th></th>\n",
       "      <th>customer_id</th>\n",
       "      <th>credit_card_default</th>\n",
       "    </tr>\n",
       "  </thead>\n",
       "  <tbody>\n",
       "  </tbody>\n",
       "</table>\n",
       "</div>"
      ],
      "text/plain": [
       "Empty DataFrame\n",
       "Columns: [customer_id, credit_card_default]\n",
       "Index: []"
      ]
     },
     "execution_count": 514,
     "metadata": {},
     "output_type": "execute_result"
    }
   ],
   "source": [
    "#preparing the sample dataset\n",
    "sf=sf.drop([0,1,2,3,4])\n",
    "sf.head()"
   ]
  },
  {
   "cell_type": "code",
   "execution_count": 522,
   "id": "93aa89da",
   "metadata": {},
   "outputs": [],
   "source": [
    "sf['credit_card_default']=pred\n",
    "\n",
    "sf['customer_id']=\"CST_\"+tf['customer_id'].astype('str')\n"
   ]
  },
  {
   "cell_type": "code",
   "execution_count": 523,
   "id": "538afc27",
   "metadata": {},
   "outputs": [
    {
     "data": {
      "text/html": [
       "<div>\n",
       "<style scoped>\n",
       "    .dataframe tbody tr th:only-of-type {\n",
       "        vertical-align: middle;\n",
       "    }\n",
       "\n",
       "    .dataframe tbody tr th {\n",
       "        vertical-align: top;\n",
       "    }\n",
       "\n",
       "    .dataframe thead th {\n",
       "        text-align: right;\n",
       "    }\n",
       "</style>\n",
       "<table border=\"1\" class=\"dataframe\">\n",
       "  <thead>\n",
       "    <tr style=\"text-align: right;\">\n",
       "      <th></th>\n",
       "      <th>customer_id</th>\n",
       "      <th>credit_card_default</th>\n",
       "    </tr>\n",
       "  </thead>\n",
       "  <tbody>\n",
       "    <tr>\n",
       "      <th>0</th>\n",
       "      <td>CST_115179</td>\n",
       "      <td>0</td>\n",
       "    </tr>\n",
       "    <tr>\n",
       "      <th>1</th>\n",
       "      <td>CST_121920</td>\n",
       "      <td>0</td>\n",
       "    </tr>\n",
       "    <tr>\n",
       "      <th>2</th>\n",
       "      <td>CST_109330</td>\n",
       "      <td>0</td>\n",
       "    </tr>\n",
       "    <tr>\n",
       "      <th>3</th>\n",
       "      <td>CST_128288</td>\n",
       "      <td>0</td>\n",
       "    </tr>\n",
       "    <tr>\n",
       "      <th>4</th>\n",
       "      <td>CST_151355</td>\n",
       "      <td>0</td>\n",
       "    </tr>\n",
       "  </tbody>\n",
       "</table>\n",
       "</div>"
      ],
      "text/plain": [
       "  customer_id  credit_card_default\n",
       "0  CST_115179                    0\n",
       "1  CST_121920                    0\n",
       "2  CST_109330                    0\n",
       "3  CST_128288                    0\n",
       "4  CST_151355                    0"
      ]
     },
     "execution_count": 523,
     "metadata": {},
     "output_type": "execute_result"
    }
   ],
   "source": [
    "sf.head()"
   ]
  },
  {
   "cell_type": "code",
   "execution_count": 524,
   "id": "6c36e30d",
   "metadata": {},
   "outputs": [],
   "source": [
    "sf.to_csv(r'C:\\Users\\USER\\Downloads\\3ad4391cabf711ec\\dataset\\sample_submission2.csv')"
   ]
  },
  {
   "cell_type": "code",
   "execution_count": null,
   "id": "16fa315c",
   "metadata": {},
   "outputs": [],
   "source": []
  }
 ],
 "metadata": {
  "kernelspec": {
   "display_name": "Python 3",
   "language": "python",
   "name": "python3"
  },
  "language_info": {
   "codemirror_mode": {
    "name": "ipython",
    "version": 3
   },
   "file_extension": ".py",
   "mimetype": "text/x-python",
   "name": "python",
   "nbconvert_exporter": "python",
   "pygments_lexer": "ipython3",
   "version": "3.8.8"
  }
 },
 "nbformat": 4,
 "nbformat_minor": 5
}
